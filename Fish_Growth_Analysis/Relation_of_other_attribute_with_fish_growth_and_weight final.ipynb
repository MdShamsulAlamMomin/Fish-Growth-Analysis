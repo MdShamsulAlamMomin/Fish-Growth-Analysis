{
  "nbformat": 4,
  "nbformat_minor": 0,
  "metadata": {
    "colab": {
      "name": "Relation of other attribute with fish growth and weight",
      "provenance": []
    },
    "kernelspec": {
      "name": "python3",
      "display_name": "Python 3"
    },
    "language_info": {
      "name": "python"
    }
  },
  "cells": [
    {
      "cell_type": "code",
      "execution_count": null,
      "metadata": {
        "colab": {
          "resources": {
            "http://localhost:8080/nbextensions/google.colab/files.js": {
              "data": "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",
              "ok": true,
              "headers": [
                [
                  "content-type",
                  "application/javascript"
                ]
              ],
              "status": 200,
              "status_text": ""
            }
          },
          "base_uri": "https://localhost:8080/",
          "height": 73
        },
        "id": "Thz3T67t0udZ",
        "outputId": "45d88b06-93eb-4fd2-93bd-4f55ff4bb5da"
      },
      "outputs": [
        {
          "output_type": "display_data",
          "data": {
            "text/html": [
              "\n",
              "     <input type=\"file\" id=\"files-86757195-4d1b-4e81-8846-0a8869b2ca42\" name=\"files[]\" multiple disabled\n",
              "        style=\"border:none\" />\n",
              "     <output id=\"result-86757195-4d1b-4e81-8846-0a8869b2ca42\">\n",
              "      Upload widget is only available when the cell has been executed in the\n",
              "      current browser session. Please rerun this cell to enable.\n",
              "      </output>\n",
              "      <script src=\"/nbextensions/google.colab/files.js\"></script> "
            ],
            "text/plain": [
              "<IPython.core.display.HTML object>"
            ]
          },
          "metadata": {}
        },
        {
          "output_type": "stream",
          "name": "stdout",
          "text": [
            "Saving Sample Dataset.csv to Sample Dataset.csv\n"
          ]
        }
      ],
      "source": [
        "#Importing necessary libraries\n",
        "import pandas as pd\n",
        "#Uploading files\n",
        "from google.colab import files\n",
        "uplodaed=files.upload() "
      ]
    },
    {
      "cell_type": "code",
      "source": [
        "#Reading and printing the whole dataset\n",
        "df=pd.read_csv(\"Sample Dataset.csv\")\n",
        "df"
      ],
      "metadata": {
        "colab": {
          "base_uri": "https://localhost:8080/",
          "height": 424
        },
        "id": "pn3NZeBP5hFB",
        "outputId": "519a5fe9-df80-435c-da7c-adb4f868e174"
      },
      "execution_count": null,
      "outputs": [
        {
          "output_type": "execute_result",
          "data": {
            "text/html": [
              "\n",
              "  <div id=\"df-eb181dbb-a4f6-4cc4-a4f6-5c41f178ad2d\">\n",
              "    <div class=\"colab-df-container\">\n",
              "      <div>\n",
              "<style scoped>\n",
              "    .dataframe tbody tr th:only-of-type {\n",
              "        vertical-align: middle;\n",
              "    }\n",
              "\n",
              "    .dataframe tbody tr th {\n",
              "        vertical-align: top;\n",
              "    }\n",
              "\n",
              "    .dataframe thead th {\n",
              "        text-align: right;\n",
              "    }\n",
              "</style>\n",
              "<table border=\"1\" class=\"dataframe\">\n",
              "  <thead>\n",
              "    <tr style=\"text-align: right;\">\n",
              "      <th></th>\n",
              "      <th>created_at</th>\n",
              "      <th>entry_id</th>\n",
              "      <th>Temperature</th>\n",
              "      <th>Turbidity DO</th>\n",
              "      <th>D0</th>\n",
              "      <th>PH</th>\n",
              "      <th>Ammonia</th>\n",
              "      <th>Nitrate</th>\n",
              "      <th>Population</th>\n",
              "      <th>Length</th>\n",
              "      <th>Weight</th>\n",
              "    </tr>\n",
              "  </thead>\n",
              "  <tbody>\n",
              "    <tr>\n",
              "      <th>0</th>\n",
              "      <td>2021-06-20 10:21:11 UTC</td>\n",
              "      <td>7645.0</td>\n",
              "      <td>25.375</td>\n",
              "      <td>-13.0</td>\n",
              "      <td>0.488</td>\n",
              "      <td>4.28004</td>\n",
              "      <td>0.01</td>\n",
              "      <td>579.0</td>\n",
              "      <td>75</td>\n",
              "      <td>6.55</td>\n",
              "      <td>2.80</td>\n",
              "    </tr>\n",
              "    <tr>\n",
              "      <th>1</th>\n",
              "      <td>2021-06-20 10:21:31 UTC</td>\n",
              "      <td>7646.0</td>\n",
              "      <td>25.375</td>\n",
              "      <td>-13.0</td>\n",
              "      <td>0.712</td>\n",
              "      <td>4.26188</td>\n",
              "      <td>0.01</td>\n",
              "      <td>579.0</td>\n",
              "      <td>75</td>\n",
              "      <td>6.55</td>\n",
              "      <td>2.80</td>\n",
              "    </tr>\n",
              "    <tr>\n",
              "      <th>2</th>\n",
              "      <td>2021-06-20 10:21:51 UTC</td>\n",
              "      <td>7647.0</td>\n",
              "      <td>25.375</td>\n",
              "      <td>-13.0</td>\n",
              "      <td>0.360</td>\n",
              "      <td>4.27550</td>\n",
              "      <td>0.01</td>\n",
              "      <td>576.0</td>\n",
              "      <td>75</td>\n",
              "      <td>6.55</td>\n",
              "      <td>2.80</td>\n",
              "    </tr>\n",
              "    <tr>\n",
              "      <th>3</th>\n",
              "      <td>2021-06-20 10:22:11 UTC</td>\n",
              "      <td>7648.0</td>\n",
              "      <td>25.375</td>\n",
              "      <td>-13.0</td>\n",
              "      <td>0.320</td>\n",
              "      <td>4.25280</td>\n",
              "      <td>0.01</td>\n",
              "      <td>574.0</td>\n",
              "      <td>75</td>\n",
              "      <td>6.55</td>\n",
              "      <td>2.80</td>\n",
              "    </tr>\n",
              "    <tr>\n",
              "      <th>4</th>\n",
              "      <td>2021-06-20 10:22:30 UTC</td>\n",
              "      <td>7649.0</td>\n",
              "      <td>25.375</td>\n",
              "      <td>-13.0</td>\n",
              "      <td>0.328</td>\n",
              "      <td>4.26642</td>\n",
              "      <td>0.01</td>\n",
              "      <td>579.0</td>\n",
              "      <td>75</td>\n",
              "      <td>6.55</td>\n",
              "      <td>2.80</td>\n",
              "    </tr>\n",
              "    <tr>\n",
              "      <th>...</th>\n",
              "      <td>...</td>\n",
              "      <td>...</td>\n",
              "      <td>...</td>\n",
              "      <td>...</td>\n",
              "      <td>...</td>\n",
              "      <td>...</td>\n",
              "      <td>...</td>\n",
              "      <td>...</td>\n",
              "      <td>...</td>\n",
              "      <td>...</td>\n",
              "      <td>...</td>\n",
              "    </tr>\n",
              "    <tr>\n",
              "      <th>152204</th>\n",
              "      <td>29/11/2021</td>\n",
              "      <td>NaN</td>\n",
              "      <td>NaN</td>\n",
              "      <td>NaN</td>\n",
              "      <td>NaN</td>\n",
              "      <td>NaN</td>\n",
              "      <td>NaN</td>\n",
              "      <td>NaN</td>\n",
              "      <td>75</td>\n",
              "      <td>16.38</td>\n",
              "      <td>15.11</td>\n",
              "    </tr>\n",
              "    <tr>\n",
              "      <th>152205</th>\n",
              "      <td>30/11/2021</td>\n",
              "      <td>NaN</td>\n",
              "      <td>NaN</td>\n",
              "      <td>NaN</td>\n",
              "      <td>NaN</td>\n",
              "      <td>NaN</td>\n",
              "      <td>NaN</td>\n",
              "      <td>NaN</td>\n",
              "      <td>75</td>\n",
              "      <td>16.41</td>\n",
              "      <td>15.18</td>\n",
              "    </tr>\n",
              "    <tr>\n",
              "      <th>152206</th>\n",
              "      <td>1/12/2021</td>\n",
              "      <td>NaN</td>\n",
              "      <td>NaN</td>\n",
              "      <td>NaN</td>\n",
              "      <td>NaN</td>\n",
              "      <td>NaN</td>\n",
              "      <td>NaN</td>\n",
              "      <td>NaN</td>\n",
              "      <td>75</td>\n",
              "      <td>16.45</td>\n",
              "      <td>15.21</td>\n",
              "    </tr>\n",
              "    <tr>\n",
              "      <th>152207</th>\n",
              "      <td>2/12/2021</td>\n",
              "      <td>NaN</td>\n",
              "      <td>NaN</td>\n",
              "      <td>NaN</td>\n",
              "      <td>NaN</td>\n",
              "      <td>NaN</td>\n",
              "      <td>NaN</td>\n",
              "      <td>NaN</td>\n",
              "      <td>75</td>\n",
              "      <td>16.49</td>\n",
              "      <td>15.24</td>\n",
              "    </tr>\n",
              "    <tr>\n",
              "      <th>152208</th>\n",
              "      <td>4/12/2021</td>\n",
              "      <td>NaN</td>\n",
              "      <td>NaN</td>\n",
              "      <td>NaN</td>\n",
              "      <td>NaN</td>\n",
              "      <td>NaN</td>\n",
              "      <td>NaN</td>\n",
              "      <td>NaN</td>\n",
              "      <td>75</td>\n",
              "      <td>16.81</td>\n",
              "      <td>15.29</td>\n",
              "    </tr>\n",
              "  </tbody>\n",
              "</table>\n",
              "<p>152209 rows × 11 columns</p>\n",
              "</div>\n",
              "      <button class=\"colab-df-convert\" onclick=\"convertToInteractive('df-eb181dbb-a4f6-4cc4-a4f6-5c41f178ad2d')\"\n",
              "              title=\"Convert this dataframe to an interactive table.\"\n",
              "              style=\"display:none;\">\n",
              "        \n",
              "  <svg xmlns=\"http://www.w3.org/2000/svg\" height=\"24px\"viewBox=\"0 0 24 24\"\n",
              "       width=\"24px\">\n",
              "    <path d=\"M0 0h24v24H0V0z\" fill=\"none\"/>\n",
              "    <path d=\"M18.56 5.44l.94 2.06.94-2.06 2.06-.94-2.06-.94-.94-2.06-.94 2.06-2.06.94zm-11 1L8.5 8.5l.94-2.06 2.06-.94-2.06-.94L8.5 2.5l-.94 2.06-2.06.94zm10 10l.94 2.06.94-2.06 2.06-.94-2.06-.94-.94-2.06-.94 2.06-2.06.94z\"/><path d=\"M17.41 7.96l-1.37-1.37c-.4-.4-.92-.59-1.43-.59-.52 0-1.04.2-1.43.59L10.3 9.45l-7.72 7.72c-.78.78-.78 2.05 0 2.83L4 21.41c.39.39.9.59 1.41.59.51 0 1.02-.2 1.41-.59l7.78-7.78 2.81-2.81c.8-.78.8-2.07 0-2.86zM5.41 20L4 18.59l7.72-7.72 1.47 1.35L5.41 20z\"/>\n",
              "  </svg>\n",
              "      </button>\n",
              "      \n",
              "  <style>\n",
              "    .colab-df-container {\n",
              "      display:flex;\n",
              "      flex-wrap:wrap;\n",
              "      gap: 12px;\n",
              "    }\n",
              "\n",
              "    .colab-df-convert {\n",
              "      background-color: #E8F0FE;\n",
              "      border: none;\n",
              "      border-radius: 50%;\n",
              "      cursor: pointer;\n",
              "      display: none;\n",
              "      fill: #1967D2;\n",
              "      height: 32px;\n",
              "      padding: 0 0 0 0;\n",
              "      width: 32px;\n",
              "    }\n",
              "\n",
              "    .colab-df-convert:hover {\n",
              "      background-color: #E2EBFA;\n",
              "      box-shadow: 0px 1px 2px rgba(60, 64, 67, 0.3), 0px 1px 3px 1px rgba(60, 64, 67, 0.15);\n",
              "      fill: #174EA6;\n",
              "    }\n",
              "\n",
              "    [theme=dark] .colab-df-convert {\n",
              "      background-color: #3B4455;\n",
              "      fill: #D2E3FC;\n",
              "    }\n",
              "\n",
              "    [theme=dark] .colab-df-convert:hover {\n",
              "      background-color: #434B5C;\n",
              "      box-shadow: 0px 1px 3px 1px rgba(0, 0, 0, 0.15);\n",
              "      filter: drop-shadow(0px 1px 2px rgba(0, 0, 0, 0.3));\n",
              "      fill: #FFFFFF;\n",
              "    }\n",
              "  </style>\n",
              "\n",
              "      <script>\n",
              "        const buttonEl =\n",
              "          document.querySelector('#df-eb181dbb-a4f6-4cc4-a4f6-5c41f178ad2d button.colab-df-convert');\n",
              "        buttonEl.style.display =\n",
              "          google.colab.kernel.accessAllowed ? 'block' : 'none';\n",
              "\n",
              "        async function convertToInteractive(key) {\n",
              "          const element = document.querySelector('#df-eb181dbb-a4f6-4cc4-a4f6-5c41f178ad2d');\n",
              "          const dataTable =\n",
              "            await google.colab.kernel.invokeFunction('convertToInteractive',\n",
              "                                                     [key], {});\n",
              "          if (!dataTable) return;\n",
              "\n",
              "          const docLinkHtml = 'Like what you see? Visit the ' +\n",
              "            '<a target=\"_blank\" href=https://colab.research.google.com/notebooks/data_table.ipynb>data table notebook</a>'\n",
              "            + ' to learn more about interactive tables.';\n",
              "          element.innerHTML = '';\n",
              "          dataTable['output_type'] = 'display_data';\n",
              "          await google.colab.output.renderOutput(dataTable, element);\n",
              "          const docLink = document.createElement('div');\n",
              "          docLink.innerHTML = docLinkHtml;\n",
              "          element.appendChild(docLink);\n",
              "        }\n",
              "      </script>\n",
              "    </div>\n",
              "  </div>\n",
              "  "
            ],
            "text/plain": [
              "                     created_at  entry_id  ...  Length  Weight\n",
              "0       2021-06-20 10:21:11 UTC    7645.0  ...    6.55    2.80\n",
              "1       2021-06-20 10:21:31 UTC    7646.0  ...    6.55    2.80\n",
              "2       2021-06-20 10:21:51 UTC    7647.0  ...    6.55    2.80\n",
              "3       2021-06-20 10:22:11 UTC    7648.0  ...    6.55    2.80\n",
              "4       2021-06-20 10:22:30 UTC    7649.0  ...    6.55    2.80\n",
              "...                         ...       ...  ...     ...     ...\n",
              "152204               29/11/2021       NaN  ...   16.38   15.11\n",
              "152205               30/11/2021       NaN  ...   16.41   15.18\n",
              "152206                1/12/2021       NaN  ...   16.45   15.21\n",
              "152207                2/12/2021       NaN  ...   16.49   15.24\n",
              "152208                4/12/2021       NaN  ...   16.81   15.29\n",
              "\n",
              "[152209 rows x 11 columns]"
            ]
          },
          "metadata": {},
          "execution_count": 3
        }
      ]
    },
    {
      "cell_type": "code",
      "source": [
        "#Find out all the information of the dataset\n",
        "df.info"
      ],
      "metadata": {
        "colab": {
          "base_uri": "https://localhost:8080/"
        },
        "id": "y0kpFHvh2Ep6",
        "outputId": "37b4d06f-201c-48fb-bac0-895efda38c9d"
      },
      "execution_count": null,
      "outputs": [
        {
          "output_type": "execute_result",
          "data": {
            "text/plain": [
              "<bound method DataFrame.info of                      created_at  entry_id  ...  Length  Weight\n",
              "0       2021-06-20 10:21:11 UTC    7645.0  ...    6.55    2.80\n",
              "1       2021-06-20 10:21:31 UTC    7646.0  ...    6.55    2.80\n",
              "2       2021-06-20 10:21:51 UTC    7647.0  ...    6.55    2.80\n",
              "3       2021-06-20 10:22:11 UTC    7648.0  ...    6.55    2.80\n",
              "4       2021-06-20 10:22:30 UTC    7649.0  ...    6.55    2.80\n",
              "...                         ...       ...  ...     ...     ...\n",
              "152204               29/11/2021       NaN  ...   16.38   15.11\n",
              "152205               30/11/2021       NaN  ...   16.41   15.18\n",
              "152206                1/12/2021       NaN  ...   16.45   15.21\n",
              "152207                2/12/2021       NaN  ...   16.49   15.24\n",
              "152208                4/12/2021       NaN  ...   16.81   15.29\n",
              "\n",
              "[152209 rows x 11 columns]>"
            ]
          },
          "metadata": {},
          "execution_count": 4
        }
      ]
    },
    {
      "cell_type": "code",
      "source": [
        "#Find out the shape of the dataset\n",
        "df.shape"
      ],
      "metadata": {
        "id": "NWNumLViKc3c",
        "colab": {
          "base_uri": "https://localhost:8080/"
        },
        "outputId": "b1954d74-77f2-45f9-ce3a-8b19cddb91f7"
      },
      "execution_count": null,
      "outputs": [
        {
          "output_type": "execute_result",
          "data": {
            "text/plain": [
              "(152209, 11)"
            ]
          },
          "metadata": {},
          "execution_count": 5
        }
      ]
    },
    {
      "cell_type": "code",
      "source": [
        "#Find out the size of the dataset\n",
        "df.size"
      ],
      "metadata": {
        "colab": {
          "base_uri": "https://localhost:8080/"
        },
        "id": "xDiczlo8OBBG",
        "outputId": "20322cd0-244c-42d6-9560-702d3e26e5d5"
      },
      "execution_count": null,
      "outputs": [
        {
          "output_type": "execute_result",
          "data": {
            "text/plain": [
              "1674299"
            ]
          },
          "metadata": {},
          "execution_count": 6
        }
      ]
    },
    {
      "cell_type": "code",
      "source": [
        "#Find out the columns of the dataset\n",
        "df.columns"
      ],
      "metadata": {
        "colab": {
          "base_uri": "https://localhost:8080/"
        },
        "id": "aWvWZwIV6T2R",
        "outputId": "88080375-8f10-4fba-e37a-822aa857c2e6"
      },
      "execution_count": null,
      "outputs": [
        {
          "output_type": "execute_result",
          "data": {
            "text/plain": [
              "Index(['created_at', 'entry_id', 'Temperature', 'Turbidity DO', 'D0', 'PH',\n",
              "       'Ammonia', 'Nitrate', 'Population', 'Length', 'Weight'],\n",
              "      dtype='object')"
            ]
          },
          "metadata": {},
          "execution_count": 7
        }
      ]
    },
    {
      "cell_type": "code",
      "source": [
        "#Printing the head or first 5 row of the dataset\n",
        "df.head()"
      ],
      "metadata": {
        "colab": {
          "base_uri": "https://localhost:8080/",
          "height": 206
        },
        "id": "qrkvXWKG6W6A",
        "outputId": "35b6b361-5493-4f2a-a2fe-23493db50c74"
      },
      "execution_count": null,
      "outputs": [
        {
          "output_type": "execute_result",
          "data": {
            "text/html": [
              "\n",
              "  <div id=\"df-bf089e1d-4a98-4c83-ace0-3120c8a69428\">\n",
              "    <div class=\"colab-df-container\">\n",
              "      <div>\n",
              "<style scoped>\n",
              "    .dataframe tbody tr th:only-of-type {\n",
              "        vertical-align: middle;\n",
              "    }\n",
              "\n",
              "    .dataframe tbody tr th {\n",
              "        vertical-align: top;\n",
              "    }\n",
              "\n",
              "    .dataframe thead th {\n",
              "        text-align: right;\n",
              "    }\n",
              "</style>\n",
              "<table border=\"1\" class=\"dataframe\">\n",
              "  <thead>\n",
              "    <tr style=\"text-align: right;\">\n",
              "      <th></th>\n",
              "      <th>created_at</th>\n",
              "      <th>entry_id</th>\n",
              "      <th>Temperature</th>\n",
              "      <th>Turbidity DO</th>\n",
              "      <th>D0</th>\n",
              "      <th>PH</th>\n",
              "      <th>Ammonia</th>\n",
              "      <th>Nitrate</th>\n",
              "      <th>Population</th>\n",
              "      <th>Length</th>\n",
              "      <th>Weight</th>\n",
              "    </tr>\n",
              "  </thead>\n",
              "  <tbody>\n",
              "    <tr>\n",
              "      <th>0</th>\n",
              "      <td>2021-06-20 10:21:11 UTC</td>\n",
              "      <td>7645.0</td>\n",
              "      <td>25.375</td>\n",
              "      <td>-13.0</td>\n",
              "      <td>0.488</td>\n",
              "      <td>4.28004</td>\n",
              "      <td>0.01</td>\n",
              "      <td>579.0</td>\n",
              "      <td>75</td>\n",
              "      <td>6.55</td>\n",
              "      <td>2.8</td>\n",
              "    </tr>\n",
              "    <tr>\n",
              "      <th>1</th>\n",
              "      <td>2021-06-20 10:21:31 UTC</td>\n",
              "      <td>7646.0</td>\n",
              "      <td>25.375</td>\n",
              "      <td>-13.0</td>\n",
              "      <td>0.712</td>\n",
              "      <td>4.26188</td>\n",
              "      <td>0.01</td>\n",
              "      <td>579.0</td>\n",
              "      <td>75</td>\n",
              "      <td>6.55</td>\n",
              "      <td>2.8</td>\n",
              "    </tr>\n",
              "    <tr>\n",
              "      <th>2</th>\n",
              "      <td>2021-06-20 10:21:51 UTC</td>\n",
              "      <td>7647.0</td>\n",
              "      <td>25.375</td>\n",
              "      <td>-13.0</td>\n",
              "      <td>0.360</td>\n",
              "      <td>4.27550</td>\n",
              "      <td>0.01</td>\n",
              "      <td>576.0</td>\n",
              "      <td>75</td>\n",
              "      <td>6.55</td>\n",
              "      <td>2.8</td>\n",
              "    </tr>\n",
              "    <tr>\n",
              "      <th>3</th>\n",
              "      <td>2021-06-20 10:22:11 UTC</td>\n",
              "      <td>7648.0</td>\n",
              "      <td>25.375</td>\n",
              "      <td>-13.0</td>\n",
              "      <td>0.320</td>\n",
              "      <td>4.25280</td>\n",
              "      <td>0.01</td>\n",
              "      <td>574.0</td>\n",
              "      <td>75</td>\n",
              "      <td>6.55</td>\n",
              "      <td>2.8</td>\n",
              "    </tr>\n",
              "    <tr>\n",
              "      <th>4</th>\n",
              "      <td>2021-06-20 10:22:30 UTC</td>\n",
              "      <td>7649.0</td>\n",
              "      <td>25.375</td>\n",
              "      <td>-13.0</td>\n",
              "      <td>0.328</td>\n",
              "      <td>4.26642</td>\n",
              "      <td>0.01</td>\n",
              "      <td>579.0</td>\n",
              "      <td>75</td>\n",
              "      <td>6.55</td>\n",
              "      <td>2.8</td>\n",
              "    </tr>\n",
              "  </tbody>\n",
              "</table>\n",
              "</div>\n",
              "      <button class=\"colab-df-convert\" onclick=\"convertToInteractive('df-bf089e1d-4a98-4c83-ace0-3120c8a69428')\"\n",
              "              title=\"Convert this dataframe to an interactive table.\"\n",
              "              style=\"display:none;\">\n",
              "        \n",
              "  <svg xmlns=\"http://www.w3.org/2000/svg\" height=\"24px\"viewBox=\"0 0 24 24\"\n",
              "       width=\"24px\">\n",
              "    <path d=\"M0 0h24v24H0V0z\" fill=\"none\"/>\n",
              "    <path d=\"M18.56 5.44l.94 2.06.94-2.06 2.06-.94-2.06-.94-.94-2.06-.94 2.06-2.06.94zm-11 1L8.5 8.5l.94-2.06 2.06-.94-2.06-.94L8.5 2.5l-.94 2.06-2.06.94zm10 10l.94 2.06.94-2.06 2.06-.94-2.06-.94-.94-2.06-.94 2.06-2.06.94z\"/><path d=\"M17.41 7.96l-1.37-1.37c-.4-.4-.92-.59-1.43-.59-.52 0-1.04.2-1.43.59L10.3 9.45l-7.72 7.72c-.78.78-.78 2.05 0 2.83L4 21.41c.39.39.9.59 1.41.59.51 0 1.02-.2 1.41-.59l7.78-7.78 2.81-2.81c.8-.78.8-2.07 0-2.86zM5.41 20L4 18.59l7.72-7.72 1.47 1.35L5.41 20z\"/>\n",
              "  </svg>\n",
              "      </button>\n",
              "      \n",
              "  <style>\n",
              "    .colab-df-container {\n",
              "      display:flex;\n",
              "      flex-wrap:wrap;\n",
              "      gap: 12px;\n",
              "    }\n",
              "\n",
              "    .colab-df-convert {\n",
              "      background-color: #E8F0FE;\n",
              "      border: none;\n",
              "      border-radius: 50%;\n",
              "      cursor: pointer;\n",
              "      display: none;\n",
              "      fill: #1967D2;\n",
              "      height: 32px;\n",
              "      padding: 0 0 0 0;\n",
              "      width: 32px;\n",
              "    }\n",
              "\n",
              "    .colab-df-convert:hover {\n",
              "      background-color: #E2EBFA;\n",
              "      box-shadow: 0px 1px 2px rgba(60, 64, 67, 0.3), 0px 1px 3px 1px rgba(60, 64, 67, 0.15);\n",
              "      fill: #174EA6;\n",
              "    }\n",
              "\n",
              "    [theme=dark] .colab-df-convert {\n",
              "      background-color: #3B4455;\n",
              "      fill: #D2E3FC;\n",
              "    }\n",
              "\n",
              "    [theme=dark] .colab-df-convert:hover {\n",
              "      background-color: #434B5C;\n",
              "      box-shadow: 0px 1px 3px 1px rgba(0, 0, 0, 0.15);\n",
              "      filter: drop-shadow(0px 1px 2px rgba(0, 0, 0, 0.3));\n",
              "      fill: #FFFFFF;\n",
              "    }\n",
              "  </style>\n",
              "\n",
              "      <script>\n",
              "        const buttonEl =\n",
              "          document.querySelector('#df-bf089e1d-4a98-4c83-ace0-3120c8a69428 button.colab-df-convert');\n",
              "        buttonEl.style.display =\n",
              "          google.colab.kernel.accessAllowed ? 'block' : 'none';\n",
              "\n",
              "        async function convertToInteractive(key) {\n",
              "          const element = document.querySelector('#df-bf089e1d-4a98-4c83-ace0-3120c8a69428');\n",
              "          const dataTable =\n",
              "            await google.colab.kernel.invokeFunction('convertToInteractive',\n",
              "                                                     [key], {});\n",
              "          if (!dataTable) return;\n",
              "\n",
              "          const docLinkHtml = 'Like what you see? Visit the ' +\n",
              "            '<a target=\"_blank\" href=https://colab.research.google.com/notebooks/data_table.ipynb>data table notebook</a>'\n",
              "            + ' to learn more about interactive tables.';\n",
              "          element.innerHTML = '';\n",
              "          dataTable['output_type'] = 'display_data';\n",
              "          await google.colab.output.renderOutput(dataTable, element);\n",
              "          const docLink = document.createElement('div');\n",
              "          docLink.innerHTML = docLinkHtml;\n",
              "          element.appendChild(docLink);\n",
              "        }\n",
              "      </script>\n",
              "    </div>\n",
              "  </div>\n",
              "  "
            ],
            "text/plain": [
              "                created_at  entry_id  Temperature  ...  Population  Length  Weight\n",
              "0  2021-06-20 10:21:11 UTC    7645.0       25.375  ...          75    6.55     2.8\n",
              "1  2021-06-20 10:21:31 UTC    7646.0       25.375  ...          75    6.55     2.8\n",
              "2  2021-06-20 10:21:51 UTC    7647.0       25.375  ...          75    6.55     2.8\n",
              "3  2021-06-20 10:22:11 UTC    7648.0       25.375  ...          75    6.55     2.8\n",
              "4  2021-06-20 10:22:30 UTC    7649.0       25.375  ...          75    6.55     2.8\n",
              "\n",
              "[5 rows x 11 columns]"
            ]
          },
          "metadata": {},
          "execution_count": 8
        }
      ]
    },
    {
      "cell_type": "code",
      "source": [
        "#Find out the tail or the last 5 row of the dataset\n",
        "df.tail()"
      ],
      "metadata": {
        "colab": {
          "base_uri": "https://localhost:8080/",
          "height": 206
        },
        "id": "214xivmQ67Rj",
        "outputId": "fc15c26d-e5ff-4ea0-b432-9cec13152a53"
      },
      "execution_count": null,
      "outputs": [
        {
          "output_type": "execute_result",
          "data": {
            "text/html": [
              "\n",
              "  <div id=\"df-fd6912e0-6a12-416f-92e5-142ea2ca8dd9\">\n",
              "    <div class=\"colab-df-container\">\n",
              "      <div>\n",
              "<style scoped>\n",
              "    .dataframe tbody tr th:only-of-type {\n",
              "        vertical-align: middle;\n",
              "    }\n",
              "\n",
              "    .dataframe tbody tr th {\n",
              "        vertical-align: top;\n",
              "    }\n",
              "\n",
              "    .dataframe thead th {\n",
              "        text-align: right;\n",
              "    }\n",
              "</style>\n",
              "<table border=\"1\" class=\"dataframe\">\n",
              "  <thead>\n",
              "    <tr style=\"text-align: right;\">\n",
              "      <th></th>\n",
              "      <th>created_at</th>\n",
              "      <th>entry_id</th>\n",
              "      <th>Temperature</th>\n",
              "      <th>Turbidity DO</th>\n",
              "      <th>D0</th>\n",
              "      <th>PH</th>\n",
              "      <th>Ammonia</th>\n",
              "      <th>Nitrate</th>\n",
              "      <th>Population</th>\n",
              "      <th>Length</th>\n",
              "      <th>Weight</th>\n",
              "    </tr>\n",
              "  </thead>\n",
              "  <tbody>\n",
              "    <tr>\n",
              "      <th>152204</th>\n",
              "      <td>29/11/2021</td>\n",
              "      <td>NaN</td>\n",
              "      <td>NaN</td>\n",
              "      <td>NaN</td>\n",
              "      <td>NaN</td>\n",
              "      <td>NaN</td>\n",
              "      <td>NaN</td>\n",
              "      <td>NaN</td>\n",
              "      <td>75</td>\n",
              "      <td>16.38</td>\n",
              "      <td>15.11</td>\n",
              "    </tr>\n",
              "    <tr>\n",
              "      <th>152205</th>\n",
              "      <td>30/11/2021</td>\n",
              "      <td>NaN</td>\n",
              "      <td>NaN</td>\n",
              "      <td>NaN</td>\n",
              "      <td>NaN</td>\n",
              "      <td>NaN</td>\n",
              "      <td>NaN</td>\n",
              "      <td>NaN</td>\n",
              "      <td>75</td>\n",
              "      <td>16.41</td>\n",
              "      <td>15.18</td>\n",
              "    </tr>\n",
              "    <tr>\n",
              "      <th>152206</th>\n",
              "      <td>1/12/2021</td>\n",
              "      <td>NaN</td>\n",
              "      <td>NaN</td>\n",
              "      <td>NaN</td>\n",
              "      <td>NaN</td>\n",
              "      <td>NaN</td>\n",
              "      <td>NaN</td>\n",
              "      <td>NaN</td>\n",
              "      <td>75</td>\n",
              "      <td>16.45</td>\n",
              "      <td>15.21</td>\n",
              "    </tr>\n",
              "    <tr>\n",
              "      <th>152207</th>\n",
              "      <td>2/12/2021</td>\n",
              "      <td>NaN</td>\n",
              "      <td>NaN</td>\n",
              "      <td>NaN</td>\n",
              "      <td>NaN</td>\n",
              "      <td>NaN</td>\n",
              "      <td>NaN</td>\n",
              "      <td>NaN</td>\n",
              "      <td>75</td>\n",
              "      <td>16.49</td>\n",
              "      <td>15.24</td>\n",
              "    </tr>\n",
              "    <tr>\n",
              "      <th>152208</th>\n",
              "      <td>4/12/2021</td>\n",
              "      <td>NaN</td>\n",
              "      <td>NaN</td>\n",
              "      <td>NaN</td>\n",
              "      <td>NaN</td>\n",
              "      <td>NaN</td>\n",
              "      <td>NaN</td>\n",
              "      <td>NaN</td>\n",
              "      <td>75</td>\n",
              "      <td>16.81</td>\n",
              "      <td>15.29</td>\n",
              "    </tr>\n",
              "  </tbody>\n",
              "</table>\n",
              "</div>\n",
              "      <button class=\"colab-df-convert\" onclick=\"convertToInteractive('df-fd6912e0-6a12-416f-92e5-142ea2ca8dd9')\"\n",
              "              title=\"Convert this dataframe to an interactive table.\"\n",
              "              style=\"display:none;\">\n",
              "        \n",
              "  <svg xmlns=\"http://www.w3.org/2000/svg\" height=\"24px\"viewBox=\"0 0 24 24\"\n",
              "       width=\"24px\">\n",
              "    <path d=\"M0 0h24v24H0V0z\" fill=\"none\"/>\n",
              "    <path d=\"M18.56 5.44l.94 2.06.94-2.06 2.06-.94-2.06-.94-.94-2.06-.94 2.06-2.06.94zm-11 1L8.5 8.5l.94-2.06 2.06-.94-2.06-.94L8.5 2.5l-.94 2.06-2.06.94zm10 10l.94 2.06.94-2.06 2.06-.94-2.06-.94-.94-2.06-.94 2.06-2.06.94z\"/><path d=\"M17.41 7.96l-1.37-1.37c-.4-.4-.92-.59-1.43-.59-.52 0-1.04.2-1.43.59L10.3 9.45l-7.72 7.72c-.78.78-.78 2.05 0 2.83L4 21.41c.39.39.9.59 1.41.59.51 0 1.02-.2 1.41-.59l7.78-7.78 2.81-2.81c.8-.78.8-2.07 0-2.86zM5.41 20L4 18.59l7.72-7.72 1.47 1.35L5.41 20z\"/>\n",
              "  </svg>\n",
              "      </button>\n",
              "      \n",
              "  <style>\n",
              "    .colab-df-container {\n",
              "      display:flex;\n",
              "      flex-wrap:wrap;\n",
              "      gap: 12px;\n",
              "    }\n",
              "\n",
              "    .colab-df-convert {\n",
              "      background-color: #E8F0FE;\n",
              "      border: none;\n",
              "      border-radius: 50%;\n",
              "      cursor: pointer;\n",
              "      display: none;\n",
              "      fill: #1967D2;\n",
              "      height: 32px;\n",
              "      padding: 0 0 0 0;\n",
              "      width: 32px;\n",
              "    }\n",
              "\n",
              "    .colab-df-convert:hover {\n",
              "      background-color: #E2EBFA;\n",
              "      box-shadow: 0px 1px 2px rgba(60, 64, 67, 0.3), 0px 1px 3px 1px rgba(60, 64, 67, 0.15);\n",
              "      fill: #174EA6;\n",
              "    }\n",
              "\n",
              "    [theme=dark] .colab-df-convert {\n",
              "      background-color: #3B4455;\n",
              "      fill: #D2E3FC;\n",
              "    }\n",
              "\n",
              "    [theme=dark] .colab-df-convert:hover {\n",
              "      background-color: #434B5C;\n",
              "      box-shadow: 0px 1px 3px 1px rgba(0, 0, 0, 0.15);\n",
              "      filter: drop-shadow(0px 1px 2px rgba(0, 0, 0, 0.3));\n",
              "      fill: #FFFFFF;\n",
              "    }\n",
              "  </style>\n",
              "\n",
              "      <script>\n",
              "        const buttonEl =\n",
              "          document.querySelector('#df-fd6912e0-6a12-416f-92e5-142ea2ca8dd9 button.colab-df-convert');\n",
              "        buttonEl.style.display =\n",
              "          google.colab.kernel.accessAllowed ? 'block' : 'none';\n",
              "\n",
              "        async function convertToInteractive(key) {\n",
              "          const element = document.querySelector('#df-fd6912e0-6a12-416f-92e5-142ea2ca8dd9');\n",
              "          const dataTable =\n",
              "            await google.colab.kernel.invokeFunction('convertToInteractive',\n",
              "                                                     [key], {});\n",
              "          if (!dataTable) return;\n",
              "\n",
              "          const docLinkHtml = 'Like what you see? Visit the ' +\n",
              "            '<a target=\"_blank\" href=https://colab.research.google.com/notebooks/data_table.ipynb>data table notebook</a>'\n",
              "            + ' to learn more about interactive tables.';\n",
              "          element.innerHTML = '';\n",
              "          dataTable['output_type'] = 'display_data';\n",
              "          await google.colab.output.renderOutput(dataTable, element);\n",
              "          const docLink = document.createElement('div');\n",
              "          docLink.innerHTML = docLinkHtml;\n",
              "          element.appendChild(docLink);\n",
              "        }\n",
              "      </script>\n",
              "    </div>\n",
              "  </div>\n",
              "  "
            ],
            "text/plain": [
              "        created_at  entry_id  Temperature  ...  Population  Length  Weight\n",
              "152204  29/11/2021       NaN          NaN  ...          75   16.38   15.11\n",
              "152205  30/11/2021       NaN          NaN  ...          75   16.41   15.18\n",
              "152206   1/12/2021       NaN          NaN  ...          75   16.45   15.21\n",
              "152207   2/12/2021       NaN          NaN  ...          75   16.49   15.24\n",
              "152208   4/12/2021       NaN          NaN  ...          75   16.81   15.29\n",
              "\n",
              "[5 rows x 11 columns]"
            ]
          },
          "metadata": {},
          "execution_count": 9
        }
      ]
    },
    {
      "cell_type": "code",
      "source": [
        "#Dropping the Nan values of the dataset\n",
        "df.dropna"
      ],
      "metadata": {
        "colab": {
          "base_uri": "https://localhost:8080/"
        },
        "id": "9-m9QbbZ7r2s",
        "outputId": "a5ed6722-ba96-4be1-bcf4-ba6f2a3404ed"
      },
      "execution_count": null,
      "outputs": [
        {
          "output_type": "execute_result",
          "data": {
            "text/plain": [
              "<bound method DataFrame.dropna of                      created_at  entry_id  ...  Length  Weight\n",
              "0       2021-06-20 10:21:11 UTC    7645.0  ...    6.55    2.80\n",
              "1       2021-06-20 10:21:31 UTC    7646.0  ...    6.55    2.80\n",
              "2       2021-06-20 10:21:51 UTC    7647.0  ...    6.55    2.80\n",
              "3       2021-06-20 10:22:11 UTC    7648.0  ...    6.55    2.80\n",
              "4       2021-06-20 10:22:30 UTC    7649.0  ...    6.55    2.80\n",
              "...                         ...       ...  ...     ...     ...\n",
              "152204               29/11/2021       NaN  ...   16.38   15.11\n",
              "152205               30/11/2021       NaN  ...   16.41   15.18\n",
              "152206                1/12/2021       NaN  ...   16.45   15.21\n",
              "152207                2/12/2021       NaN  ...   16.49   15.24\n",
              "152208                4/12/2021       NaN  ...   16.81   15.29\n",
              "\n",
              "[152209 rows x 11 columns]>"
            ]
          },
          "metadata": {},
          "execution_count": 10
        }
      ]
    },
    {
      "cell_type": "code",
      "source": [
        "#Find out the numerical columns of the dataset\n",
        "numerical_cols = df.columns[df.dtypes != object]\n",
        "numerical_cols"
      ],
      "metadata": {
        "colab": {
          "base_uri": "https://localhost:8080/"
        },
        "id": "XI2sSk3e9WqW",
        "outputId": "4be14fde-868d-4ab6-f4a8-2a9f7885c0f9"
      },
      "execution_count": null,
      "outputs": [
        {
          "output_type": "execute_result",
          "data": {
            "text/plain": [
              "Index(['entry_id', 'Temperature', 'Turbidity DO', 'D0', 'PH', 'Ammonia',\n",
              "       'Nitrate', 'Population', 'Length', 'Weight'],\n",
              "      dtype='object')"
            ]
          },
          "metadata": {},
          "execution_count": 11
        }
      ]
    },
    {
      "cell_type": "code",
      "source": [
        "#Find out the categorical columns of the dataset\n",
        "categorical_cols=df.columns[df.dtypes!=object]\n",
        "categorical_cols"
      ],
      "metadata": {
        "colab": {
          "base_uri": "https://localhost:8080/"
        },
        "id": "3MjcuMyj-Gwt",
        "outputId": "29c87b5a-1525-4a31-d461-f6dbe2abfa5b"
      },
      "execution_count": null,
      "outputs": [
        {
          "output_type": "execute_result",
          "data": {
            "text/plain": [
              "Index(['entry_id', 'Temperature', 'Turbidity DO', 'D0', 'PH', 'Ammonia',\n",
              "       'Nitrate', 'Population', 'Length', 'Weight'],\n",
              "      dtype='object')"
            ]
          },
          "metadata": {},
          "execution_count": 12
        }
      ]
    },
    {
      "cell_type": "code",
      "source": [
        "#Find out the datatypes of each column of the dataset\n",
        "df.dtypes"
      ],
      "metadata": {
        "colab": {
          "base_uri": "https://localhost:8080/"
        },
        "id": "d5Ncxa5POfmD",
        "outputId": "369db734-817e-4bee-a25a-dd6b92efe96d"
      },
      "execution_count": null,
      "outputs": [
        {
          "output_type": "execute_result",
          "data": {
            "text/plain": [
              "created_at       object\n",
              "entry_id        float64\n",
              "Temperature     float64\n",
              "Turbidity DO    float64\n",
              "D0              float64\n",
              "PH              float64\n",
              "Ammonia         float64\n",
              "Nitrate         float64\n",
              "Population        int64\n",
              "Length          float64\n",
              "Weight          float64\n",
              "dtype: object"
            ]
          },
          "metadata": {},
          "execution_count": 13
        }
      ]
    },
    {
      "cell_type": "code",
      "source": [
        "#Creating a new dataset by dropping unnecessary columns of previous dataset\n",
        "df1=df.drop([\"created_at\", \"entry_id\", \"Population\"],axis=1)\n",
        "df1.head()"
      ],
      "metadata": {
        "colab": {
          "base_uri": "https://localhost:8080/",
          "height": 206
        },
        "id": "GXRMw6SePYNx",
        "outputId": "7cdee5ca-9b16-4a7b-ccbb-459e80cf2767"
      },
      "execution_count": null,
      "outputs": [
        {
          "output_type": "execute_result",
          "data": {
            "text/html": [
              "\n",
              "  <div id=\"df-3e0f214f-6f2e-4214-96b5-2524bd21100b\">\n",
              "    <div class=\"colab-df-container\">\n",
              "      <div>\n",
              "<style scoped>\n",
              "    .dataframe tbody tr th:only-of-type {\n",
              "        vertical-align: middle;\n",
              "    }\n",
              "\n",
              "    .dataframe tbody tr th {\n",
              "        vertical-align: top;\n",
              "    }\n",
              "\n",
              "    .dataframe thead th {\n",
              "        text-align: right;\n",
              "    }\n",
              "</style>\n",
              "<table border=\"1\" class=\"dataframe\">\n",
              "  <thead>\n",
              "    <tr style=\"text-align: right;\">\n",
              "      <th></th>\n",
              "      <th>Temperature</th>\n",
              "      <th>Turbidity DO</th>\n",
              "      <th>D0</th>\n",
              "      <th>PH</th>\n",
              "      <th>Ammonia</th>\n",
              "      <th>Nitrate</th>\n",
              "      <th>Length</th>\n",
              "      <th>Weight</th>\n",
              "    </tr>\n",
              "  </thead>\n",
              "  <tbody>\n",
              "    <tr>\n",
              "      <th>0</th>\n",
              "      <td>25.375</td>\n",
              "      <td>-13.0</td>\n",
              "      <td>0.488</td>\n",
              "      <td>4.28004</td>\n",
              "      <td>0.01</td>\n",
              "      <td>579.0</td>\n",
              "      <td>6.55</td>\n",
              "      <td>2.8</td>\n",
              "    </tr>\n",
              "    <tr>\n",
              "      <th>1</th>\n",
              "      <td>25.375</td>\n",
              "      <td>-13.0</td>\n",
              "      <td>0.712</td>\n",
              "      <td>4.26188</td>\n",
              "      <td>0.01</td>\n",
              "      <td>579.0</td>\n",
              "      <td>6.55</td>\n",
              "      <td>2.8</td>\n",
              "    </tr>\n",
              "    <tr>\n",
              "      <th>2</th>\n",
              "      <td>25.375</td>\n",
              "      <td>-13.0</td>\n",
              "      <td>0.360</td>\n",
              "      <td>4.27550</td>\n",
              "      <td>0.01</td>\n",
              "      <td>576.0</td>\n",
              "      <td>6.55</td>\n",
              "      <td>2.8</td>\n",
              "    </tr>\n",
              "    <tr>\n",
              "      <th>3</th>\n",
              "      <td>25.375</td>\n",
              "      <td>-13.0</td>\n",
              "      <td>0.320</td>\n",
              "      <td>4.25280</td>\n",
              "      <td>0.01</td>\n",
              "      <td>574.0</td>\n",
              "      <td>6.55</td>\n",
              "      <td>2.8</td>\n",
              "    </tr>\n",
              "    <tr>\n",
              "      <th>4</th>\n",
              "      <td>25.375</td>\n",
              "      <td>-13.0</td>\n",
              "      <td>0.328</td>\n",
              "      <td>4.26642</td>\n",
              "      <td>0.01</td>\n",
              "      <td>579.0</td>\n",
              "      <td>6.55</td>\n",
              "      <td>2.8</td>\n",
              "    </tr>\n",
              "  </tbody>\n",
              "</table>\n",
              "</div>\n",
              "      <button class=\"colab-df-convert\" onclick=\"convertToInteractive('df-3e0f214f-6f2e-4214-96b5-2524bd21100b')\"\n",
              "              title=\"Convert this dataframe to an interactive table.\"\n",
              "              style=\"display:none;\">\n",
              "        \n",
              "  <svg xmlns=\"http://www.w3.org/2000/svg\" height=\"24px\"viewBox=\"0 0 24 24\"\n",
              "       width=\"24px\">\n",
              "    <path d=\"M0 0h24v24H0V0z\" fill=\"none\"/>\n",
              "    <path d=\"M18.56 5.44l.94 2.06.94-2.06 2.06-.94-2.06-.94-.94-2.06-.94 2.06-2.06.94zm-11 1L8.5 8.5l.94-2.06 2.06-.94-2.06-.94L8.5 2.5l-.94 2.06-2.06.94zm10 10l.94 2.06.94-2.06 2.06-.94-2.06-.94-.94-2.06-.94 2.06-2.06.94z\"/><path d=\"M17.41 7.96l-1.37-1.37c-.4-.4-.92-.59-1.43-.59-.52 0-1.04.2-1.43.59L10.3 9.45l-7.72 7.72c-.78.78-.78 2.05 0 2.83L4 21.41c.39.39.9.59 1.41.59.51 0 1.02-.2 1.41-.59l7.78-7.78 2.81-2.81c.8-.78.8-2.07 0-2.86zM5.41 20L4 18.59l7.72-7.72 1.47 1.35L5.41 20z\"/>\n",
              "  </svg>\n",
              "      </button>\n",
              "      \n",
              "  <style>\n",
              "    .colab-df-container {\n",
              "      display:flex;\n",
              "      flex-wrap:wrap;\n",
              "      gap: 12px;\n",
              "    }\n",
              "\n",
              "    .colab-df-convert {\n",
              "      background-color: #E8F0FE;\n",
              "      border: none;\n",
              "      border-radius: 50%;\n",
              "      cursor: pointer;\n",
              "      display: none;\n",
              "      fill: #1967D2;\n",
              "      height: 32px;\n",
              "      padding: 0 0 0 0;\n",
              "      width: 32px;\n",
              "    }\n",
              "\n",
              "    .colab-df-convert:hover {\n",
              "      background-color: #E2EBFA;\n",
              "      box-shadow: 0px 1px 2px rgba(60, 64, 67, 0.3), 0px 1px 3px 1px rgba(60, 64, 67, 0.15);\n",
              "      fill: #174EA6;\n",
              "    }\n",
              "\n",
              "    [theme=dark] .colab-df-convert {\n",
              "      background-color: #3B4455;\n",
              "      fill: #D2E3FC;\n",
              "    }\n",
              "\n",
              "    [theme=dark] .colab-df-convert:hover {\n",
              "      background-color: #434B5C;\n",
              "      box-shadow: 0px 1px 3px 1px rgba(0, 0, 0, 0.15);\n",
              "      filter: drop-shadow(0px 1px 2px rgba(0, 0, 0, 0.3));\n",
              "      fill: #FFFFFF;\n",
              "    }\n",
              "  </style>\n",
              "\n",
              "      <script>\n",
              "        const buttonEl =\n",
              "          document.querySelector('#df-3e0f214f-6f2e-4214-96b5-2524bd21100b button.colab-df-convert');\n",
              "        buttonEl.style.display =\n",
              "          google.colab.kernel.accessAllowed ? 'block' : 'none';\n",
              "\n",
              "        async function convertToInteractive(key) {\n",
              "          const element = document.querySelector('#df-3e0f214f-6f2e-4214-96b5-2524bd21100b');\n",
              "          const dataTable =\n",
              "            await google.colab.kernel.invokeFunction('convertToInteractive',\n",
              "                                                     [key], {});\n",
              "          if (!dataTable) return;\n",
              "\n",
              "          const docLinkHtml = 'Like what you see? Visit the ' +\n",
              "            '<a target=\"_blank\" href=https://colab.research.google.com/notebooks/data_table.ipynb>data table notebook</a>'\n",
              "            + ' to learn more about interactive tables.';\n",
              "          element.innerHTML = '';\n",
              "          dataTable['output_type'] = 'display_data';\n",
              "          await google.colab.output.renderOutput(dataTable, element);\n",
              "          const docLink = document.createElement('div');\n",
              "          docLink.innerHTML = docLinkHtml;\n",
              "          element.appendChild(docLink);\n",
              "        }\n",
              "      </script>\n",
              "    </div>\n",
              "  </div>\n",
              "  "
            ],
            "text/plain": [
              "   Temperature  Turbidity DO     D0       PH  Ammonia  Nitrate  Length  Weight\n",
              "0       25.375         -13.0  0.488  4.28004     0.01    579.0    6.55     2.8\n",
              "1       25.375         -13.0  0.712  4.26188     0.01    579.0    6.55     2.8\n",
              "2       25.375         -13.0  0.360  4.27550     0.01    576.0    6.55     2.8\n",
              "3       25.375         -13.0  0.320  4.25280     0.01    574.0    6.55     2.8\n",
              "4       25.375         -13.0  0.328  4.26642     0.01    579.0    6.55     2.8"
            ]
          },
          "metadata": {},
          "execution_count": 14
        }
      ]
    },
    {
      "cell_type": "code",
      "source": [
        "#Find out unique values of some columns \n",
        "df1['Temperature'].unique()"
      ],
      "metadata": {
        "colab": {
          "base_uri": "https://localhost:8080/"
        },
        "id": "zH8gZ9xX-gsO",
        "outputId": "f54cd29f-e944-442b-a04a-bcfc7acadc0d"
      },
      "execution_count": null,
      "outputs": [
        {
          "output_type": "execute_result",
          "data": {
            "text/plain": [
              "array([  25.375 ,   25.3125,   25.4375,   25.5   ,   24.5625,   24.4375,\n",
              "         24.5   ,   24.625 ,   24.6875,   24.75  ,   24.8125,   24.875 ,\n",
              "         24.9375,   25.    ,   24.375 ,   24.3125,   24.25  ,   24.1875,\n",
              "         24.125 ,   24.0625,   24.    ,   23.9375,   23.875 ,   23.8125,\n",
              "         23.75  ,   23.6875,   23.625 ,   23.5625,   23.5   ,   23.4375,\n",
              "         25.0625,   25.125 ,   25.1875,   25.25  ,   25.5625,   25.625 ,\n",
              "         25.6875,   25.75  ,   25.8125,   25.875 ,   25.9375,   26.    ,\n",
              "         26.0625,   23.375 ,   23.3125,   23.25  ,   23.1875,   23.125 ,\n",
              "         26.125 ,   23.0625,   23.    ,   22.9375, -127.    ,   22.875 ,\n",
              "         22.8125,   22.75  ,       nan])"
            ]
          },
          "metadata": {},
          "execution_count": 15
        }
      ]
    },
    {
      "cell_type": "code",
      "source": [
        "#Find out unique values of some columns\n",
        "df1['Turbidity DO'].unique()"
      ],
      "metadata": {
        "colab": {
          "base_uri": "https://localhost:8080/"
        },
        "id": "pdW3wvOV_J5l",
        "outputId": "8baeeea0-06fe-484a-c73f-907f7f2b9bc1"
      },
      "execution_count": null,
      "outputs": [
        {
          "output_type": "execute_result",
          "data": {
            "text/plain": [
              "array([-13.,  51.,  49.,  53.,  59.,  61.,  57.,  63.,  62.,  60.,  64.,\n",
              "        52.,  65.,  58.,  70.,  69.,  54.,  45.,  50.,  48.,  56.,  55.,\n",
              "        46.,  47.,  41.,  42.,  39.,  43.,  40.,  38.,  36.,  44.,  37.,\n",
              "        35.,  66.,  68.,  67.,  75.,  32.,  31.,  30.,  29.,  33.,  34.,\n",
              "        27.,  26.,  25.,  73.,  71.,  72.,  74.,  76.,  85.,  86.,  87.,\n",
              "        88.,  89.,  90.,  91.,  92.,  84.,  83.,  82.,  79.,  81.,  80.,\n",
              "        78.,  28.,  24.,  23.,  22.,  21.,  20.,  19.,  17.,  18.,  16.,\n",
              "        77.,  96.,  94.,  93.,  95.,  98., 100.,  99.,  97.,  13.,   8.,\n",
              "        11.,  10.,  15.,  12.,   9.,  14.,   7.,   5.,   6.,   3.,   4.,\n",
              "         1.,   2.,  -1.,   0.,  -3.,  -2.,  -4.,  -5.,  -6.,  -7.,  -9.,\n",
              "        -8., -11., -10., -12.,  nan])"
            ]
          },
          "metadata": {},
          "execution_count": 16
        }
      ]
    },
    {
      "cell_type": "code",
      "source": [
        "#Find out unique values of some columns\n",
        "df1['D0'].unique()"
      ],
      "metadata": {
        "colab": {
          "base_uri": "https://localhost:8080/"
        },
        "id": "S6VyaCD7YcO9",
        "outputId": "347c1593-59d3-4926-e35e-49dde7c40820"
      },
      "execution_count": null,
      "outputs": [
        {
          "output_type": "execute_result",
          "data": {
            "text/plain": [
              "array([0.488, 0.712, 0.36 , ..., 0.573, 0.628,   nan])"
            ]
          },
          "metadata": {},
          "execution_count": 17
        }
      ]
    },
    {
      "cell_type": "code",
      "source": [
        "#Find out unique values of some columns\n",
        "df1['PH'].unique()"
      ],
      "metadata": {
        "colab": {
          "base_uri": "https://localhost:8080/"
        },
        "id": "OLRzA2gq_Y7h",
        "outputId": "1f5ebbb3-6467-4e64-b81b-fc1a5c27d24f"
      },
      "execution_count": null,
      "outputs": [
        {
          "output_type": "execute_result",
          "data": {
            "text/plain": [
              "array([ 4.28004,  4.26188,  4.2755 ,  4.2528 ,  4.26642,  4.23918,\n",
              "        4.25734,  4.23464,  4.30727,  4.2074 ,  4.22556,  4.21648,\n",
              "        4.38898,  4.21194,  4.20286,  4.19379,  4.19833,  4.18925,\n",
              "        4.18471,  4.18017,  4.17109,  4.16201,  4.32543,  4.15293,\n",
              "        4.14385,  4.14839,  5.19701,  5.17885,  5.18339,  5.16069,\n",
              "        5.15161,  5.14253,  5.16977,  5.16523,  5.11984,  5.1153 ,\n",
              "        5.13799,  5.13345,  5.09714,  5.12892,  5.11076,  5.08806,\n",
              "        5.06536,  5.0699 ,  5.07444,  5.06082,  5.07898,  5.05628,\n",
              "        5.05174,  5.04267,  5.0472 ,  5.03813,  5.03359,  5.01089,\n",
              "        5.01997,  5.02905,  5.02451,  5.01543,  5.00181,  5.00635,\n",
              "        5.08352,  5.2424 ,  5.22424,  5.2197 ,  5.23332,  5.22878,\n",
              "        5.26056,  5.25602,  5.26964,  5.27872,  5.29234,  5.2878 ,\n",
              "        5.31503,  5.33319,  5.32411,  5.31049,  5.32865,  5.40582,\n",
              "        5.41036,  5.40128,  5.41944,  5.39674,  5.4149 ,  5.42852,\n",
              "        5.47845,  5.44214,  5.43306,  5.4376 ,  5.45122,  5.42398,\n",
              "        5.45576,  5.4603 ,  5.46938,  5.49661,  5.38313,  5.44668,\n",
              "        5.48299,  5.49207,  5.46484,  5.48753,  5.50115,  5.51477,\n",
              "        5.47391,  8.65154,  8.65608,  8.62884,  8.68786,  8.6697 ,\n",
              "        8.67878,  8.66516,  8.647  ,  8.64246,  8.63792,  8.63338,\n",
              "        8.67424,  8.6243 ,  8.61522,  8.61976,  8.60614,  8.61068,\n",
              "        8.60161,  8.59707,  8.58345,  8.59253,  8.57891,  8.58799,\n",
              "        8.57437,  8.56983,  8.56529,  8.55167,  8.55621,  8.56075,\n",
              "        8.52897,  8.54259,  8.54713,  8.53805,  8.53351,  8.51082,\n",
              "        8.52444,  8.5199 ,  8.50628,  8.50174,  8.51536,  8.48812,\n",
              "        8.4972 ,  8.49266,  8.48358,  8.4518 ,  8.43365,  8.44272,\n",
              "        8.44726,  8.43818,  8.42911,  8.3474 ,  8.42457,  8.42003,\n",
              "        8.41549,  8.41095,  8.40641,  8.39279,  8.40187,  8.39733,\n",
              "        8.38825,  8.38371,  8.37463,  8.37917,  8.36555,  8.36101,\n",
              "        8.35647,  8.37009,  8.33832,  8.35194,  8.33378,  8.34286,\n",
              "        8.32924,  8.32016,  8.31562,  8.3247 ,  8.302  ,  8.31108,\n",
              "        8.28838,  8.30654,  8.29292,  8.26569,  8.28384,  8.29746,\n",
              "        8.2793 ,  8.27476,  8.27022,  8.26115,  8.25661,  8.24753,\n",
              "        8.25207,  8.24299,  8.22029,  8.23845,  8.21575,  8.23391,\n",
              "        8.20213,  8.22937,  8.22483,  8.21121,  8.20667,  8.19759,\n",
              "        8.19305,  8.18851,  8.1749 ,  8.17944,  8.18398,  8.17036,\n",
              "        8.15674,  8.16128,  8.16582,  8.14766,  8.14312,  8.1522 ,\n",
              "        8.1295 ,  8.13858,  8.13404,  8.12496,  8.12042,  8.11588,\n",
              "        8.07503,  8.11134,  8.1068 ,  8.08865,  8.10226,  8.09772,\n",
              "        8.09319,  8.06141,  8.08411,  8.07957,  8.07049,  8.06595,\n",
              "        8.05233,  8.05687,  8.04779,  8.04325,  8.03871,  8.03417,\n",
              "        8.02963,  8.02055,  8.02509,  8.0024 ,  8.01602,  7.99332,\n",
              "        7.89799,  8.01148,  7.99786,  8.00694,  7.9797 ,  7.98878,\n",
              "        7.98424,  7.97516,  7.97062,  7.95246,  7.96608,  7.957  ,\n",
              "        7.94338,  7.96154,  7.92069,  7.93884,  7.9343 ,  7.94792,\n",
              "        7.92976,  7.92523,  7.91161,  7.90707,  7.84805,  7.79812,\n",
              "        7.79358,  7.77996,  7.7845 ,  7.77542,  7.76634,  7.78904,\n",
              "        7.77088,  7.80266,  7.82082,  7.7618 ,  7.82536,  7.81628,\n",
              "        7.81174,  7.86621,  7.8072 ,  7.74819,  7.74365,  7.8299 ,\n",
              "        7.70279,  7.84351,  7.75727,  7.83898,  7.85259,  7.87075,\n",
              "        7.73457,  7.88891,  7.75273,  7.73911,  7.72095,  7.72549,\n",
              "        7.69371,  7.71641,  7.73003,  7.68009,  7.71187,  7.6347 ,\n",
              "        7.83444,  7.70733,  7.68463,  7.89345,  7.68917,  7.69825,\n",
              "        7.63924,  7.6574 ,  7.67555,  7.66648,  7.62108,  7.67102,\n",
              "        7.63016,  7.62562,  7.64832,  7.53483,  7.66194,  7.61654,\n",
              "        7.58477,  7.65286,  7.60292,  7.55753,  7.64378,  7.58023,\n",
              "        7.59384,  7.612  ,  7.59838,  7.60746,  7.56207,  7.57569,\n",
              "        7.5893 ,  7.55299,  7.54391,  7.53029,  7.48944,  7.54845,\n",
              "        7.50306,  7.50759,  7.53937,  7.57115,  7.56661,  7.41227,\n",
              "        7.52121,  7.47582,  7.52575,  7.48036,  7.46674,  7.49398,\n",
              "        7.45766,  7.3124 ,  7.51213,  7.4395 ,  7.43042,  7.42134,\n",
              "        7.4849 ,  7.51667,  7.47128,  7.49852,  7.45312,  7.44858,\n",
              "        7.38957,  7.40773,  7.39411,  7.30332,  7.37595,  7.43496,\n",
              "        7.2897 ,  7.31694,  7.41681,  7.27608,  7.4622 ,  7.33963,\n",
              "        7.34417,  7.35325,  7.32148,  7.39865,  7.38503,  7.24431,\n",
              "        7.09904,  7.42588,  7.32602,  7.36687,  7.35779,  7.36233,\n",
              "        7.88437,  7.11266,  7.40319,  7.30786,  7.44404,  7.20345,\n",
              "        7.21707,  7.28516,  7.38049,  7.27154,  7.25792,  7.15806,\n",
              "        7.33056,  7.37141,  7.1626 ,  7.22161,  7.25338,  7.33509,\n",
              "        7.29424,  7.267  ,  7.22615,  7.23069,  7.18529,  7.17621,\n",
              "        7.18075,  7.15352,  7.12174,  7.06727,  7.07181,  7.08996,\n",
              "        7.08542,  7.05365,  7.16713,  7.04003,  7.03095,  7.02641,\n",
              "        6.95378,  6.94016,  6.94924,  6.90385,  6.89477,  6.92654,\n",
              "        6.922  ,  6.89023,  6.90839,  6.99464,  6.87207,  6.88569,\n",
              "        7.05819,  6.88115,  6.87661,  6.86753,  6.85845,  6.83575,\n",
              "        6.85391,  6.86299,  6.79944,  6.91292,  6.89931,  6.84029,\n",
              "        6.83121,  6.81306,  6.9447 ,  6.93108,  6.84937,  6.77674,\n",
              "        6.80398,  6.8176 ,  6.82214,  7.00371,  6.97648,  6.84483,\n",
              "        7.21253,  7.10812,  7.0945 ,  7.07635,  7.12628,  7.14898,\n",
              "        7.1399 ,  7.24885,  7.10358,  6.95832,  7.03549,  7.04457,\n",
              "        7.02187,  6.80852,  6.82667,  6.78582,  6.7949 ,  6.5997 ,\n",
              "        6.97194,  6.78128,  6.7495 ,  6.7722 ,  6.73589,  7.01733,\n",
              "        7.00825,  6.74496,  6.98556,  6.79036,  6.66779,  6.76766,\n",
              "        6.99917,  6.96286,  6.76312,  6.74043,  6.98102,  6.70865,\n",
              "        6.66325,  6.75858,  6.93562,  7.01279,  6.91746,  6.47714,\n",
              "        7.04911,  7.23977,  7.08088,  6.9674 ,  7.14444,  7.19891,\n",
              "        7.13536,  7.19437,  6.75404,  7.17167,  7.23523,  7.1172 ,\n",
              "        7.29878,  7.20799,  7.26246,  6.64056,  6.69503,  6.71319,\n",
              "        6.72227,  6.72681,  6.73135,  6.68595,  6.65418,  6.71773,\n",
              "        6.69049,  6.67687,  6.44082,  6.65871,  7.13082,  7.34871,\n",
              "        6.9901 ,  6.70411,  6.69957,  6.67233,  6.68141,  6.61332,\n",
              "        6.63148,  6.56339,  6.59062,  6.51345,  6.44536,  6.60424,\n",
              "        6.51799,  6.63602,  6.45444,  6.58608,  6.53615,  6.57246,\n",
              "        6.55885,  6.59516,  6.6451 ,  6.64964,  6.61786,  6.6224 ,\n",
              "        6.60878,  6.52253,  6.54977,  6.58154,  6.577  ,  6.62694,\n",
              "        6.22747,  6.43174,  6.36365,  6.49529,  6.37273,  6.53161,\n",
              "        6.50437, -2.86054, -2.66988, -2.92409, -2.88324, -2.93317,\n",
              "       -2.99219, -2.92863, -2.91048, -2.89686, -2.98311, -2.89232,\n",
              "       -2.9014 , -2.97403, -2.94679, -3.00127, -2.856  , -2.91956,\n",
              "       -3.03304, -2.95587, -3.0285 , -2.93771, -2.96949, -2.90594,\n",
              "       -3.00581, -2.98765, -2.69258, -2.61995, -3.13745, -2.62449,\n",
              "       -2.60633, -2.95133, -2.96495, -2.97857, -3.04212, -3.01942,\n",
              "       -2.78791, -3.05574, -2.91502, -2.85146, 12.66897, -2.82877,\n",
              "       -2.84692,  7.28062,  7.18983,  7.06273,  6.54523,  6.52707,\n",
              "        6.46806,  6.20477,  6.48622,  6.11852,  6.32733,  6.49075,\n",
              "        6.56793,  6.54069,  6.38181,  6.4726 ,  5.9778 ,  6.46352,\n",
              "        6.55431,  6.36819,  6.38635,  6.29102,  6.41812,  6.34095,\n",
              "        6.49983,  6.42266,  6.29556,  6.07766,  6.45898,  6.35911,\n",
              "        6.50891,      nan])"
            ]
          },
          "metadata": {},
          "execution_count": 18
        }
      ]
    },
    {
      "cell_type": "code",
      "source": [
        "#Find out unique values of some columns\n",
        "df1['Ammonia'].unique()"
      ],
      "metadata": {
        "colab": {
          "base_uri": "https://localhost:8080/"
        },
        "id": "1bJdkyPA_sHi",
        "outputId": "20990ed3-fb4d-4b54-d831-b6ad100a8305"
      },
      "execution_count": null,
      "outputs": [
        {
          "output_type": "execute_result",
          "data": {
            "text/plain": [
              "array([0.01   , 0.23569, 0.38618, ..., 0.00834, 0.00897,     nan])"
            ]
          },
          "metadata": {},
          "execution_count": 19
        }
      ]
    },
    {
      "cell_type": "code",
      "source": [
        "#Find out unique values of some columns\n",
        "df1['Nitrate'].unique()"
      ],
      "metadata": {
        "colab": {
          "base_uri": "https://localhost:8080/"
        },
        "id": "jJuHaeeG_55u",
        "outputId": "0dd52a70-0a11-40e8-f84d-0f44cbdc68b0"
      },
      "execution_count": null,
      "outputs": [
        {
          "output_type": "execute_result",
          "data": {
            "text/plain": [
              "array([ 579.,  576.,  574., ..., 2401., 2856.,   nan])"
            ]
          },
          "metadata": {},
          "execution_count": 20
        }
      ]
    },
    {
      "cell_type": "code",
      "source": [
        "#Find out correlation of \"Length\" column with other columns \n",
        "correlation_matrix = df1.corr()\n",
        "correlation_matrix[\"Length\"]"
      ],
      "metadata": {
        "colab": {
          "base_uri": "https://localhost:8080/"
        },
        "id": "3SQxpYlxACF1",
        "outputId": "decfde9a-bead-46de-ace0-a3c21360a5e6"
      },
      "execution_count": null,
      "outputs": [
        {
          "output_type": "execute_result",
          "data": {
            "text/plain": [
              "Temperature    -0.145201\n",
              "Turbidity DO   -0.771884\n",
              "D0              0.123906\n",
              "PH             -0.569069\n",
              "Ammonia        -0.003486\n",
              "Nitrate         0.720840\n",
              "Length          1.000000\n",
              "Weight          0.998916\n",
              "Name: Length, dtype: float64"
            ]
          },
          "metadata": {},
          "execution_count": 21
        }
      ]
    },
    {
      "cell_type": "code",
      "source": [
        "#Find out correlation of \"Weight\" column with other columns\n",
        "correlation_matrix = df1.corr()\n",
        "correlation_matrix[\"Weight\"]"
      ],
      "metadata": {
        "id": "sklkk0c2AZc0",
        "colab": {
          "base_uri": "https://localhost:8080/"
        },
        "outputId": "6982ea79-50aa-478a-ee9d-704e7517d5c4"
      },
      "execution_count": null,
      "outputs": [
        {
          "output_type": "execute_result",
          "data": {
            "text/plain": [
              "Temperature    -0.141413\n",
              "Turbidity DO   -0.761862\n",
              "D0              0.118353\n",
              "PH             -0.560793\n",
              "Ammonia        -0.003598\n",
              "Nitrate         0.710870\n",
              "Length          0.998916\n",
              "Weight          1.000000\n",
              "Name: Weight, dtype: float64"
            ]
          },
          "metadata": {},
          "execution_count": 22
        }
      ]
    },
    {
      "cell_type": "code",
      "source": [
        "#Find out the shape of new dataset\n",
        "df1.shape"
      ],
      "metadata": {
        "colab": {
          "base_uri": "https://localhost:8080/"
        },
        "id": "3ISiIRPXW2yp",
        "outputId": "0148b19f-adda-404d-8149-c7c391ce840e"
      },
      "execution_count": null,
      "outputs": [
        {
          "output_type": "execute_result",
          "data": {
            "text/plain": [
              "(152209, 8)"
            ]
          },
          "metadata": {},
          "execution_count": 23
        }
      ]
    },
    {
      "cell_type": "code",
      "source": [
        "#Find out the size of new dataset\n",
        "df1.size"
      ],
      "metadata": {
        "colab": {
          "base_uri": "https://localhost:8080/"
        },
        "id": "oaLzFPBGZf9w",
        "outputId": "b96607eb-8b0d-4d04-ed97-aa22a07d86fe"
      },
      "execution_count": null,
      "outputs": [
        {
          "output_type": "execute_result",
          "data": {
            "text/plain": [
              "1217672"
            ]
          },
          "metadata": {},
          "execution_count": 24
        }
      ]
    },
    {
      "cell_type": "code",
      "source": [
        "#Printing the whole dataset\n",
        "df1"
      ],
      "metadata": {
        "colab": {
          "base_uri": "https://localhost:8080/",
          "height": 424
        },
        "id": "UtpUZsWxZige",
        "outputId": "1ecc9ded-5718-4378-85cd-e064e3da9626"
      },
      "execution_count": null,
      "outputs": [
        {
          "output_type": "execute_result",
          "data": {
            "text/html": [
              "\n",
              "  <div id=\"df-3870eac5-2d8b-4a19-8497-5ee366d95fb0\">\n",
              "    <div class=\"colab-df-container\">\n",
              "      <div>\n",
              "<style scoped>\n",
              "    .dataframe tbody tr th:only-of-type {\n",
              "        vertical-align: middle;\n",
              "    }\n",
              "\n",
              "    .dataframe tbody tr th {\n",
              "        vertical-align: top;\n",
              "    }\n",
              "\n",
              "    .dataframe thead th {\n",
              "        text-align: right;\n",
              "    }\n",
              "</style>\n",
              "<table border=\"1\" class=\"dataframe\">\n",
              "  <thead>\n",
              "    <tr style=\"text-align: right;\">\n",
              "      <th></th>\n",
              "      <th>Temperature</th>\n",
              "      <th>Turbidity DO</th>\n",
              "      <th>D0</th>\n",
              "      <th>PH</th>\n",
              "      <th>Ammonia</th>\n",
              "      <th>Nitrate</th>\n",
              "      <th>Length</th>\n",
              "      <th>Weight</th>\n",
              "    </tr>\n",
              "  </thead>\n",
              "  <tbody>\n",
              "    <tr>\n",
              "      <th>0</th>\n",
              "      <td>25.375</td>\n",
              "      <td>-13.0</td>\n",
              "      <td>0.488</td>\n",
              "      <td>4.28004</td>\n",
              "      <td>0.01</td>\n",
              "      <td>579.0</td>\n",
              "      <td>6.55</td>\n",
              "      <td>2.80</td>\n",
              "    </tr>\n",
              "    <tr>\n",
              "      <th>1</th>\n",
              "      <td>25.375</td>\n",
              "      <td>-13.0</td>\n",
              "      <td>0.712</td>\n",
              "      <td>4.26188</td>\n",
              "      <td>0.01</td>\n",
              "      <td>579.0</td>\n",
              "      <td>6.55</td>\n",
              "      <td>2.80</td>\n",
              "    </tr>\n",
              "    <tr>\n",
              "      <th>2</th>\n",
              "      <td>25.375</td>\n",
              "      <td>-13.0</td>\n",
              "      <td>0.360</td>\n",
              "      <td>4.27550</td>\n",
              "      <td>0.01</td>\n",
              "      <td>576.0</td>\n",
              "      <td>6.55</td>\n",
              "      <td>2.80</td>\n",
              "    </tr>\n",
              "    <tr>\n",
              "      <th>3</th>\n",
              "      <td>25.375</td>\n",
              "      <td>-13.0</td>\n",
              "      <td>0.320</td>\n",
              "      <td>4.25280</td>\n",
              "      <td>0.01</td>\n",
              "      <td>574.0</td>\n",
              "      <td>6.55</td>\n",
              "      <td>2.80</td>\n",
              "    </tr>\n",
              "    <tr>\n",
              "      <th>4</th>\n",
              "      <td>25.375</td>\n",
              "      <td>-13.0</td>\n",
              "      <td>0.328</td>\n",
              "      <td>4.26642</td>\n",
              "      <td>0.01</td>\n",
              "      <td>579.0</td>\n",
              "      <td>6.55</td>\n",
              "      <td>2.80</td>\n",
              "    </tr>\n",
              "    <tr>\n",
              "      <th>...</th>\n",
              "      <td>...</td>\n",
              "      <td>...</td>\n",
              "      <td>...</td>\n",
              "      <td>...</td>\n",
              "      <td>...</td>\n",
              "      <td>...</td>\n",
              "      <td>...</td>\n",
              "      <td>...</td>\n",
              "    </tr>\n",
              "    <tr>\n",
              "      <th>152204</th>\n",
              "      <td>NaN</td>\n",
              "      <td>NaN</td>\n",
              "      <td>NaN</td>\n",
              "      <td>NaN</td>\n",
              "      <td>NaN</td>\n",
              "      <td>NaN</td>\n",
              "      <td>16.38</td>\n",
              "      <td>15.11</td>\n",
              "    </tr>\n",
              "    <tr>\n",
              "      <th>152205</th>\n",
              "      <td>NaN</td>\n",
              "      <td>NaN</td>\n",
              "      <td>NaN</td>\n",
              "      <td>NaN</td>\n",
              "      <td>NaN</td>\n",
              "      <td>NaN</td>\n",
              "      <td>16.41</td>\n",
              "      <td>15.18</td>\n",
              "    </tr>\n",
              "    <tr>\n",
              "      <th>152206</th>\n",
              "      <td>NaN</td>\n",
              "      <td>NaN</td>\n",
              "      <td>NaN</td>\n",
              "      <td>NaN</td>\n",
              "      <td>NaN</td>\n",
              "      <td>NaN</td>\n",
              "      <td>16.45</td>\n",
              "      <td>15.21</td>\n",
              "    </tr>\n",
              "    <tr>\n",
              "      <th>152207</th>\n",
              "      <td>NaN</td>\n",
              "      <td>NaN</td>\n",
              "      <td>NaN</td>\n",
              "      <td>NaN</td>\n",
              "      <td>NaN</td>\n",
              "      <td>NaN</td>\n",
              "      <td>16.49</td>\n",
              "      <td>15.24</td>\n",
              "    </tr>\n",
              "    <tr>\n",
              "      <th>152208</th>\n",
              "      <td>NaN</td>\n",
              "      <td>NaN</td>\n",
              "      <td>NaN</td>\n",
              "      <td>NaN</td>\n",
              "      <td>NaN</td>\n",
              "      <td>NaN</td>\n",
              "      <td>16.81</td>\n",
              "      <td>15.29</td>\n",
              "    </tr>\n",
              "  </tbody>\n",
              "</table>\n",
              "<p>152209 rows × 8 columns</p>\n",
              "</div>\n",
              "      <button class=\"colab-df-convert\" onclick=\"convertToInteractive('df-3870eac5-2d8b-4a19-8497-5ee366d95fb0')\"\n",
              "              title=\"Convert this dataframe to an interactive table.\"\n",
              "              style=\"display:none;\">\n",
              "        \n",
              "  <svg xmlns=\"http://www.w3.org/2000/svg\" height=\"24px\"viewBox=\"0 0 24 24\"\n",
              "       width=\"24px\">\n",
              "    <path d=\"M0 0h24v24H0V0z\" fill=\"none\"/>\n",
              "    <path d=\"M18.56 5.44l.94 2.06.94-2.06 2.06-.94-2.06-.94-.94-2.06-.94 2.06-2.06.94zm-11 1L8.5 8.5l.94-2.06 2.06-.94-2.06-.94L8.5 2.5l-.94 2.06-2.06.94zm10 10l.94 2.06.94-2.06 2.06-.94-2.06-.94-.94-2.06-.94 2.06-2.06.94z\"/><path d=\"M17.41 7.96l-1.37-1.37c-.4-.4-.92-.59-1.43-.59-.52 0-1.04.2-1.43.59L10.3 9.45l-7.72 7.72c-.78.78-.78 2.05 0 2.83L4 21.41c.39.39.9.59 1.41.59.51 0 1.02-.2 1.41-.59l7.78-7.78 2.81-2.81c.8-.78.8-2.07 0-2.86zM5.41 20L4 18.59l7.72-7.72 1.47 1.35L5.41 20z\"/>\n",
              "  </svg>\n",
              "      </button>\n",
              "      \n",
              "  <style>\n",
              "    .colab-df-container {\n",
              "      display:flex;\n",
              "      flex-wrap:wrap;\n",
              "      gap: 12px;\n",
              "    }\n",
              "\n",
              "    .colab-df-convert {\n",
              "      background-color: #E8F0FE;\n",
              "      border: none;\n",
              "      border-radius: 50%;\n",
              "      cursor: pointer;\n",
              "      display: none;\n",
              "      fill: #1967D2;\n",
              "      height: 32px;\n",
              "      padding: 0 0 0 0;\n",
              "      width: 32px;\n",
              "    }\n",
              "\n",
              "    .colab-df-convert:hover {\n",
              "      background-color: #E2EBFA;\n",
              "      box-shadow: 0px 1px 2px rgba(60, 64, 67, 0.3), 0px 1px 3px 1px rgba(60, 64, 67, 0.15);\n",
              "      fill: #174EA6;\n",
              "    }\n",
              "\n",
              "    [theme=dark] .colab-df-convert {\n",
              "      background-color: #3B4455;\n",
              "      fill: #D2E3FC;\n",
              "    }\n",
              "\n",
              "    [theme=dark] .colab-df-convert:hover {\n",
              "      background-color: #434B5C;\n",
              "      box-shadow: 0px 1px 3px 1px rgba(0, 0, 0, 0.15);\n",
              "      filter: drop-shadow(0px 1px 2px rgba(0, 0, 0, 0.3));\n",
              "      fill: #FFFFFF;\n",
              "    }\n",
              "  </style>\n",
              "\n",
              "      <script>\n",
              "        const buttonEl =\n",
              "          document.querySelector('#df-3870eac5-2d8b-4a19-8497-5ee366d95fb0 button.colab-df-convert');\n",
              "        buttonEl.style.display =\n",
              "          google.colab.kernel.accessAllowed ? 'block' : 'none';\n",
              "\n",
              "        async function convertToInteractive(key) {\n",
              "          const element = document.querySelector('#df-3870eac5-2d8b-4a19-8497-5ee366d95fb0');\n",
              "          const dataTable =\n",
              "            await google.colab.kernel.invokeFunction('convertToInteractive',\n",
              "                                                     [key], {});\n",
              "          if (!dataTable) return;\n",
              "\n",
              "          const docLinkHtml = 'Like what you see? Visit the ' +\n",
              "            '<a target=\"_blank\" href=https://colab.research.google.com/notebooks/data_table.ipynb>data table notebook</a>'\n",
              "            + ' to learn more about interactive tables.';\n",
              "          element.innerHTML = '';\n",
              "          dataTable['output_type'] = 'display_data';\n",
              "          await google.colab.output.renderOutput(dataTable, element);\n",
              "          const docLink = document.createElement('div');\n",
              "          docLink.innerHTML = docLinkHtml;\n",
              "          element.appendChild(docLink);\n",
              "        }\n",
              "      </script>\n",
              "    </div>\n",
              "  </div>\n",
              "  "
            ],
            "text/plain": [
              "        Temperature  Turbidity DO     D0  ...  Nitrate  Length  Weight\n",
              "0            25.375         -13.0  0.488  ...    579.0    6.55    2.80\n",
              "1            25.375         -13.0  0.712  ...    579.0    6.55    2.80\n",
              "2            25.375         -13.0  0.360  ...    576.0    6.55    2.80\n",
              "3            25.375         -13.0  0.320  ...    574.0    6.55    2.80\n",
              "4            25.375         -13.0  0.328  ...    579.0    6.55    2.80\n",
              "...             ...           ...    ...  ...      ...     ...     ...\n",
              "152204          NaN           NaN    NaN  ...      NaN   16.38   15.11\n",
              "152205          NaN           NaN    NaN  ...      NaN   16.41   15.18\n",
              "152206          NaN           NaN    NaN  ...      NaN   16.45   15.21\n",
              "152207          NaN           NaN    NaN  ...      NaN   16.49   15.24\n",
              "152208          NaN           NaN    NaN  ...      NaN   16.81   15.29\n",
              "\n",
              "[152209 rows x 8 columns]"
            ]
          },
          "metadata": {},
          "execution_count": 50
        }
      ]
    },
    {
      "cell_type": "code",
      "source": [
        "#Find out the data types of new dataset \n",
        "df1.dtypes"
      ],
      "metadata": {
        "colab": {
          "base_uri": "https://localhost:8080/"
        },
        "id": "m8toZ-h-ZnFR",
        "outputId": "422dc0c0-6271-4731-882c-50364b9587ba"
      },
      "execution_count": null,
      "outputs": [
        {
          "output_type": "execute_result",
          "data": {
            "text/plain": [
              "Temperature     float64\n",
              "Turbidity DO    float64\n",
              "D0              float64\n",
              "PH              float64\n",
              "Ammonia         float64\n",
              "Nitrate         float64\n",
              "Length          float64\n",
              "Weight          float64\n",
              "dtype: object"
            ]
          },
          "metadata": {},
          "execution_count": 48
        }
      ]
    },
    {
      "cell_type": "code",
      "source": [
        "#Find out the numerical cols of new dataset\n",
        "numerical_cols1=df1.columns[df1.dtypes!=object]\n",
        "numerical_cols1"
      ],
      "metadata": {
        "colab": {
          "base_uri": "https://localhost:8080/"
        },
        "id": "LQURqM6fZuYs",
        "outputId": "6970dfe4-d2cf-4fd4-f254-626943523fbb"
      },
      "execution_count": null,
      "outputs": [
        {
          "output_type": "execute_result",
          "data": {
            "text/plain": [
              "Index(['Temperature', 'Turbidity DO', 'D0', 'PH', 'Ammonia', 'Nitrate',\n",
              "       'Length', 'Weight'],\n",
              "      dtype='object')"
            ]
          },
          "metadata": {},
          "execution_count": 49
        }
      ]
    },
    {
      "cell_type": "code",
      "source": [
        "#Find out the categorical columns of new dataset\n",
        "categorical_cols1=df1.columns[df1.dtypes==object]\n",
        "categorical_cols1"
      ],
      "metadata": {
        "colab": {
          "base_uri": "https://localhost:8080/"
        },
        "id": "j4pxT834Z6dx",
        "outputId": "9a6fc1f1-53d0-4c83-8aba-9b5b5232a6ba"
      },
      "execution_count": null,
      "outputs": [
        {
          "output_type": "execute_result",
          "data": {
            "text/plain": [
              "Index([], dtype='object')"
            ]
          },
          "metadata": {},
          "execution_count": 28
        }
      ]
    },
    {
      "cell_type": "code",
      "source": [
        "#Importing necessary libraries\n",
        "import numpy as np\n",
        "#Creating another new dataset by replacing the positive and negative infinite value with nan and then drop the nan values\n",
        "df2 = df1.replace([np.inf, -np.inf], np.nan, inplace=True)\n",
        "df2 = df1.dropna()\n",
        "#Printing the whole dataset without any nan values\n",
        "df2"
      ],
      "metadata": {
        "colab": {
          "base_uri": "https://localhost:8080/",
          "height": 424
        },
        "id": "oJEiu0Ao8sHp",
        "outputId": "5ffcaf56-bfdf-42d6-8135-070cf728b0bc"
      },
      "execution_count": null,
      "outputs": [
        {
          "output_type": "execute_result",
          "data": {
            "text/html": [
              "\n",
              "  <div id=\"df-f21d3f68-364c-4a15-8d9a-4695b6d4f3e6\">\n",
              "    <div class=\"colab-df-container\">\n",
              "      <div>\n",
              "<style scoped>\n",
              "    .dataframe tbody tr th:only-of-type {\n",
              "        vertical-align: middle;\n",
              "    }\n",
              "\n",
              "    .dataframe tbody tr th {\n",
              "        vertical-align: top;\n",
              "    }\n",
              "\n",
              "    .dataframe thead th {\n",
              "        text-align: right;\n",
              "    }\n",
              "</style>\n",
              "<table border=\"1\" class=\"dataframe\">\n",
              "  <thead>\n",
              "    <tr style=\"text-align: right;\">\n",
              "      <th></th>\n",
              "      <th>Temperature</th>\n",
              "      <th>Turbidity DO</th>\n",
              "      <th>D0</th>\n",
              "      <th>PH</th>\n",
              "      <th>Ammonia</th>\n",
              "      <th>Nitrate</th>\n",
              "      <th>Length</th>\n",
              "      <th>Weight</th>\n",
              "    </tr>\n",
              "  </thead>\n",
              "  <tbody>\n",
              "    <tr>\n",
              "      <th>0</th>\n",
              "      <td>25.375</td>\n",
              "      <td>-13.0</td>\n",
              "      <td>0.488</td>\n",
              "      <td>4.28004</td>\n",
              "      <td>0.01000</td>\n",
              "      <td>579.0</td>\n",
              "      <td>6.55</td>\n",
              "      <td>2.80</td>\n",
              "    </tr>\n",
              "    <tr>\n",
              "      <th>1</th>\n",
              "      <td>25.375</td>\n",
              "      <td>-13.0</td>\n",
              "      <td>0.712</td>\n",
              "      <td>4.26188</td>\n",
              "      <td>0.01000</td>\n",
              "      <td>579.0</td>\n",
              "      <td>6.55</td>\n",
              "      <td>2.80</td>\n",
              "    </tr>\n",
              "    <tr>\n",
              "      <th>2</th>\n",
              "      <td>25.375</td>\n",
              "      <td>-13.0</td>\n",
              "      <td>0.360</td>\n",
              "      <td>4.27550</td>\n",
              "      <td>0.01000</td>\n",
              "      <td>576.0</td>\n",
              "      <td>6.55</td>\n",
              "      <td>2.80</td>\n",
              "    </tr>\n",
              "    <tr>\n",
              "      <th>3</th>\n",
              "      <td>25.375</td>\n",
              "      <td>-13.0</td>\n",
              "      <td>0.320</td>\n",
              "      <td>4.25280</td>\n",
              "      <td>0.01000</td>\n",
              "      <td>574.0</td>\n",
              "      <td>6.55</td>\n",
              "      <td>2.80</td>\n",
              "    </tr>\n",
              "    <tr>\n",
              "      <th>4</th>\n",
              "      <td>25.375</td>\n",
              "      <td>-13.0</td>\n",
              "      <td>0.328</td>\n",
              "      <td>4.26642</td>\n",
              "      <td>0.01000</td>\n",
              "      <td>579.0</td>\n",
              "      <td>6.55</td>\n",
              "      <td>2.80</td>\n",
              "    </tr>\n",
              "    <tr>\n",
              "      <th>...</th>\n",
              "      <td>...</td>\n",
              "      <td>...</td>\n",
              "      <td>...</td>\n",
              "      <td>...</td>\n",
              "      <td>...</td>\n",
              "      <td>...</td>\n",
              "      <td>...</td>\n",
              "      <td>...</td>\n",
              "    </tr>\n",
              "    <tr>\n",
              "      <th>152174</th>\n",
              "      <td>-127.000</td>\n",
              "      <td>100.0</td>\n",
              "      <td>0.549</td>\n",
              "      <td>-3.13745</td>\n",
              "      <td>0.00786</td>\n",
              "      <td>1297.0</td>\n",
              "      <td>12.42</td>\n",
              "      <td>8.92</td>\n",
              "    </tr>\n",
              "    <tr>\n",
              "      <th>152175</th>\n",
              "      <td>-127.000</td>\n",
              "      <td>100.0</td>\n",
              "      <td>0.555</td>\n",
              "      <td>-3.13745</td>\n",
              "      <td>0.00781</td>\n",
              "      <td>1376.0</td>\n",
              "      <td>12.42</td>\n",
              "      <td>8.92</td>\n",
              "    </tr>\n",
              "    <tr>\n",
              "      <th>152176</th>\n",
              "      <td>-127.000</td>\n",
              "      <td>100.0</td>\n",
              "      <td>0.573</td>\n",
              "      <td>-3.13745</td>\n",
              "      <td>0.00834</td>\n",
              "      <td>1437.0</td>\n",
              "      <td>12.42</td>\n",
              "      <td>8.92</td>\n",
              "    </tr>\n",
              "    <tr>\n",
              "      <th>152177</th>\n",
              "      <td>-127.000</td>\n",
              "      <td>100.0</td>\n",
              "      <td>0.598</td>\n",
              "      <td>-3.13745</td>\n",
              "      <td>0.00897</td>\n",
              "      <td>1481.0</td>\n",
              "      <td>12.42</td>\n",
              "      <td>8.92</td>\n",
              "    </tr>\n",
              "    <tr>\n",
              "      <th>152178</th>\n",
              "      <td>-127.000</td>\n",
              "      <td>100.0</td>\n",
              "      <td>0.628</td>\n",
              "      <td>-3.13745</td>\n",
              "      <td>0.00834</td>\n",
              "      <td>1514.0</td>\n",
              "      <td>12.42</td>\n",
              "      <td>8.92</td>\n",
              "    </tr>\n",
              "  </tbody>\n",
              "</table>\n",
              "<p>152093 rows × 8 columns</p>\n",
              "</div>\n",
              "      <button class=\"colab-df-convert\" onclick=\"convertToInteractive('df-f21d3f68-364c-4a15-8d9a-4695b6d4f3e6')\"\n",
              "              title=\"Convert this dataframe to an interactive table.\"\n",
              "              style=\"display:none;\">\n",
              "        \n",
              "  <svg xmlns=\"http://www.w3.org/2000/svg\" height=\"24px\"viewBox=\"0 0 24 24\"\n",
              "       width=\"24px\">\n",
              "    <path d=\"M0 0h24v24H0V0z\" fill=\"none\"/>\n",
              "    <path d=\"M18.56 5.44l.94 2.06.94-2.06 2.06-.94-2.06-.94-.94-2.06-.94 2.06-2.06.94zm-11 1L8.5 8.5l.94-2.06 2.06-.94-2.06-.94L8.5 2.5l-.94 2.06-2.06.94zm10 10l.94 2.06.94-2.06 2.06-.94-2.06-.94-.94-2.06-.94 2.06-2.06.94z\"/><path d=\"M17.41 7.96l-1.37-1.37c-.4-.4-.92-.59-1.43-.59-.52 0-1.04.2-1.43.59L10.3 9.45l-7.72 7.72c-.78.78-.78 2.05 0 2.83L4 21.41c.39.39.9.59 1.41.59.51 0 1.02-.2 1.41-.59l7.78-7.78 2.81-2.81c.8-.78.8-2.07 0-2.86zM5.41 20L4 18.59l7.72-7.72 1.47 1.35L5.41 20z\"/>\n",
              "  </svg>\n",
              "      </button>\n",
              "      \n",
              "  <style>\n",
              "    .colab-df-container {\n",
              "      display:flex;\n",
              "      flex-wrap:wrap;\n",
              "      gap: 12px;\n",
              "    }\n",
              "\n",
              "    .colab-df-convert {\n",
              "      background-color: #E8F0FE;\n",
              "      border: none;\n",
              "      border-radius: 50%;\n",
              "      cursor: pointer;\n",
              "      display: none;\n",
              "      fill: #1967D2;\n",
              "      height: 32px;\n",
              "      padding: 0 0 0 0;\n",
              "      width: 32px;\n",
              "    }\n",
              "\n",
              "    .colab-df-convert:hover {\n",
              "      background-color: #E2EBFA;\n",
              "      box-shadow: 0px 1px 2px rgba(60, 64, 67, 0.3), 0px 1px 3px 1px rgba(60, 64, 67, 0.15);\n",
              "      fill: #174EA6;\n",
              "    }\n",
              "\n",
              "    [theme=dark] .colab-df-convert {\n",
              "      background-color: #3B4455;\n",
              "      fill: #D2E3FC;\n",
              "    }\n",
              "\n",
              "    [theme=dark] .colab-df-convert:hover {\n",
              "      background-color: #434B5C;\n",
              "      box-shadow: 0px 1px 3px 1px rgba(0, 0, 0, 0.15);\n",
              "      filter: drop-shadow(0px 1px 2px rgba(0, 0, 0, 0.3));\n",
              "      fill: #FFFFFF;\n",
              "    }\n",
              "  </style>\n",
              "\n",
              "      <script>\n",
              "        const buttonEl =\n",
              "          document.querySelector('#df-f21d3f68-364c-4a15-8d9a-4695b6d4f3e6 button.colab-df-convert');\n",
              "        buttonEl.style.display =\n",
              "          google.colab.kernel.accessAllowed ? 'block' : 'none';\n",
              "\n",
              "        async function convertToInteractive(key) {\n",
              "          const element = document.querySelector('#df-f21d3f68-364c-4a15-8d9a-4695b6d4f3e6');\n",
              "          const dataTable =\n",
              "            await google.colab.kernel.invokeFunction('convertToInteractive',\n",
              "                                                     [key], {});\n",
              "          if (!dataTable) return;\n",
              "\n",
              "          const docLinkHtml = 'Like what you see? Visit the ' +\n",
              "            '<a target=\"_blank\" href=https://colab.research.google.com/notebooks/data_table.ipynb>data table notebook</a>'\n",
              "            + ' to learn more about interactive tables.';\n",
              "          element.innerHTML = '';\n",
              "          dataTable['output_type'] = 'display_data';\n",
              "          await google.colab.output.renderOutput(dataTable, element);\n",
              "          const docLink = document.createElement('div');\n",
              "          docLink.innerHTML = docLinkHtml;\n",
              "          element.appendChild(docLink);\n",
              "        }\n",
              "      </script>\n",
              "    </div>\n",
              "  </div>\n",
              "  "
            ],
            "text/plain": [
              "        Temperature  Turbidity DO     D0  ...  Nitrate  Length  Weight\n",
              "0            25.375         -13.0  0.488  ...    579.0    6.55    2.80\n",
              "1            25.375         -13.0  0.712  ...    579.0    6.55    2.80\n",
              "2            25.375         -13.0  0.360  ...    576.0    6.55    2.80\n",
              "3            25.375         -13.0  0.320  ...    574.0    6.55    2.80\n",
              "4            25.375         -13.0  0.328  ...    579.0    6.55    2.80\n",
              "...             ...           ...    ...  ...      ...     ...     ...\n",
              "152174     -127.000         100.0  0.549  ...   1297.0   12.42    8.92\n",
              "152175     -127.000         100.0  0.555  ...   1376.0   12.42    8.92\n",
              "152176     -127.000         100.0  0.573  ...   1437.0   12.42    8.92\n",
              "152177     -127.000         100.0  0.598  ...   1481.0   12.42    8.92\n",
              "152178     -127.000         100.0  0.628  ...   1514.0   12.42    8.92\n",
              "\n",
              "[152093 rows x 8 columns]"
            ]
          },
          "metadata": {},
          "execution_count": 54
        }
      ]
    },
    {
      "cell_type": "code",
      "source": [
        "#Importing necessary libraries to calculate distance\n",
        "from scipy.spatial import distance\n",
        "#Find out the Minkowski distance of \"Weight\" column with \"Temperature\" column\n",
        "mink_dist1 = distance.minkowski(df2[\"Weight\"].astype(float),df2[\"Temperature\"].astype(float),p=100)\n",
        "print(mink_dist1)\n",
        "#Find out the Minkowski distance of \"Weight\" column with \"Turbidity DO\" column\n",
        "mink_dist2 = distance.minkowski(df2[\"Weight\"].astype(float),df2[\"Turbidity DO\"].astype(float),p=100)\n",
        "print(mink_dist2)\n",
        "#Find out the Minkowski distance of \"Weight\" column with \"Turbidity D0\" column\n",
        "mink_dist3 = distance.minkowski(df2[\"Weight\"].astype(float),df2[\"D0\"].astype(float),p=100)\n",
        "print(mink_dist3)\n",
        "#Find out the Minkowski distance of \"Weight\" column with \"PH\" column\n",
        "mink_dist4 = distance.minkowski(df2[\"Weight\"].astype(float),df2[\"PH\"].astype(float),p=100)\n",
        "print(mink_dist4)\n",
        "#Find out the Minkowski distance of \"Weight\" column with \"Ammonia\" column\n",
        "mink_dist5 = distance.minkowski(df2[\"Weight\"].astype(float),df2[\"Ammonia\"].astype(float),p=100)\n",
        "print(mink_dist5)\n",
        "#Find out the Minkowski distance of \"Weight\" column with \"Nitrate\" column\n",
        "mink_dist6 = distance.minkowski(df2[\"Weight\"].astype(float),df2[\"Nitrate\"].astype(float),p=100)\n",
        "print(mink_dist6)\n",
        "#Find out the Minkowski distance of \"Weight\" column with \"Length\" column\n",
        "mink_dist7 = distance.minkowski(df2[\"Weight\"].astype(float),df2[\"Length\"].astype(float),p=100)\n",
        "print(mink_dist7)\n"
      ],
      "metadata": {
        "id": "ckwH48D-aaEP",
        "outputId": "bf4d9796-6259-4f5a-cefe-ab7735454e09",
        "colab": {
          "base_uri": "https://localhost:8080/"
        }
      },
      "execution_count": null,
      "outputs": [
        {
          "output_type": "stream",
          "name": "stdout",
          "text": [
            "139.33010534938953\n",
            "99.23413295280082\n",
            "43.49556314941991\n",
            "12.310802655108198\n",
            "inf\n",
            "inf\n",
            "4.1684080568423205\n"
          ]
        },
        {
          "output_type": "stream",
          "name": "stderr",
          "text": [
            "/usr/local/lib/python3.7/dist-packages/numpy/linalg/linalg.py:2568: RuntimeWarning: overflow encountered in power\n",
            "  absx **= ord\n",
            "/usr/local/lib/python3.7/dist-packages/numpy/linalg/linalg.py:2569: RuntimeWarning: overflow encountered in reduce\n",
            "  ret = add.reduce(absx, axis=axis, keepdims=keepdims)\n"
          ]
        }
      ]
    }
  ]
}